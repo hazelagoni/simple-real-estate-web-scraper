{
 "cells": [
  {
   "cell_type": "code",
   "execution_count": 140,
   "metadata": {},
   "outputs": [],
   "source": [
    "import requests\n",
    "import pandas as pd\n",
    "import logging\n",
    "import csv\n",
    "from bs4 import BeautifulSoup"
   ]
  },
  {
   "cell_type": "code",
   "execution_count": 143,
   "metadata": {},
   "outputs": [],
   "source": [
    "While True:\n",
    "    page = 0\n",
    "    print(---, page, ---)\n",
    "    \n",
    "    homeData = {}\n",
    "    home_no = 0\n",
    "    r = requests.get(\"https://www.homes.com/san-diego-ca/homes-for-sale/\",headers = {'User-agent':'Mozilla/5.0 (X11; Ubuntu; Linux x86_64; rv:61.0) Gecko/20100101 Firefox/61.0'})\n",
    "    c = r.content\n",
    "    soup = BeautifulSoup(c,\"html.parser\")\n",
    "    data = soup.find_all(\"article\",{\"class\":\"property-card--property-list\"})"
   ]
  },
  {
   "cell_type": "code",
   "execution_count": 144,
   "metadata": {},
   "outputs": [
    {
     "name": "stdout",
     "output_type": "stream",
     "text": [
      "address:  1285 Pacific Highway #102, San Diego, CA 92101 propPrice: $1,150,000 propDetails: 2 bds | 3 ba | 1,668 sqft propType: condominium for sale\n",
      "address:  550 Front St #1404, San Diego, CA 92101 propPrice: $1,329,900 propDetails: 2 bds | 3 ba | 1,596 sqft propType: condominium for sale\n",
      "address:  69 Antigua Court, Coronado, CA 92118 propPrice: $1,125,000 propDetails: 2 bds | 2 ba | 1,860 sqft propType: condominium for sale\n",
      "address:  2638 Teresita St, San Diego, CA 92104 propPrice: $1,149,999 propDetails: 3 bds | 2 ba | 1,816 sqft propType: house for sale\n",
      "address:  4211 Utah 4, San Diego, CA 92104 propPrice: $757,000 propDetails: 2 bds | 3 ba | -- sqft propType: condominium for sale\n",
      "address:  4766-4768 Bermuda Ave, San Diego, CA 92107 propPrice: $1,400,000 propDetails: 4 bds | 2 ba | 1,437 sqft propType: multi family for sale\n",
      "address:  1099 1st, Coronado, CA 92118 propPrice: $1,895,000 propDetails: 2 bds | 2 ba | 1,644 sqft propType: condominium for sale\n",
      "address:  14955 Avenida Venusto #8, San Diego, CA 92128 propPrice: $488,000 propDetails: 2 bds | 2 ba | 1,152 sqft propType: mobile manufactured for sale\n",
      "address:  5111 Brighton, San Diego, CA 92107 propPrice: $1,450,000 propDetails: 3 bds | 3 ba | 1,834 sqft propType: house for sale\n",
      "address:  3271 Thorn St, San Diego, CA 92104 propPrice: $925,000 propDetails: 3 bds | 2 ba | 1,216 sqft propType: house for sale\n",
      "address:  2650 Broadway #303, San Diego, CA 92102 propPrice: $246,000 propDetails: 1 bds | 1 ba | 405 sqft propType: condominium for sale\n",
      "address:  18515 Caminito Pasadero #341, San Diego, CA 92128 propPrice: $340,000 propDetails: 1 bds | 1 ba | 814 sqft propType: condominium for sale\n",
      "address:  9405 Gold Coast Dr #a3, San Diego, CA 92126 propPrice: $329,900 propDetails: 2 bds | 2 ba | 1,104 sqft propType: condominium for sale\n",
      "address:  415-417 Pomona Ave, Coronado, CA 92118 propPrice: $4,867,500 propDetails: -- bds | -- ba | -- sqft propType: multi family for sale\n",
      "address:  17199 W Bernardo Dr #105, San Diego, CA 92127 propPrice: $345,000 propDetails: 2 bds | 1 ba | 874 sqft propType: condominium for sale\n",
      "address:  2817 Nipoma Street, San Diego, CA 92106 propPrice: $800,000 propDetails: 2 bds | 1 ba | 900 sqft propType: house for sale\n",
      "address:  4555-57 36th Street, San Diego, CA 92116 propPrice: $1,299,000 propDetails: -- bds | -- ba | -- sqft propType: multi family for sale\n"
     ]
    }
   ],
   "source": [
    "for i in data:\n",
    "    address = i.find(\"h2\",{\"class\":\"property-card-content__address\"}).text\n",
    "    propPrice = i.find(\"span\", {\"class\": \"details__price-val\"}).text\n",
    "    propDetails = i.find(\"div\", {\"class\": \"property-card-content__details\"}).text\n",
    "    propType = i.find(\"div\", {\"class\": \"property-card-content__listing-type\"}).text  \n",
    "\n",
    "    home_no += 1\n",
    "    homeData[home_no] = [address, propPrice, propDetails, propType]\n",
    "    print('address: ', address,'propPrice:', propPrice, 'propDetails:', propDetails, 'propType:', propType)\n"
   ]
  },
  {
   "cell_type": "code",
   "execution_count": 141,
   "metadata": {},
   "outputs": [],
   "source": [
    "homeData_df = pd.DataFrame.from_dict(homeData, orient = 'index', columns = ['address','price','details','type'])"
   ]
  },
  {
   "cell_type": "code",
   "execution_count": 142,
   "metadata": {},
   "outputs": [
    {
     "data": {
      "text/html": [
       "<div>\n",
       "<style scoped>\n",
       "    .dataframe tbody tr th:only-of-type {\n",
       "        vertical-align: middle;\n",
       "    }\n",
       "\n",
       "    .dataframe tbody tr th {\n",
       "        vertical-align: top;\n",
       "    }\n",
       "\n",
       "    .dataframe thead th {\n",
       "        text-align: right;\n",
       "    }\n",
       "</style>\n",
       "<table border=\"1\" class=\"dataframe\">\n",
       "  <thead>\n",
       "    <tr style=\"text-align: right;\">\n",
       "      <th></th>\n",
       "      <th>address</th>\n",
       "      <th>price</th>\n",
       "      <th>details</th>\n",
       "      <th>type</th>\n",
       "    </tr>\n",
       "  </thead>\n",
       "  <tbody>\n",
       "    <tr>\n",
       "      <th>1</th>\n",
       "      <td>1285 Pacific Highway #102, San Diego, CA 92101</td>\n",
       "      <td>$1,150,000</td>\n",
       "      <td>2 bds | 3 ba | 1,668 sqft</td>\n",
       "      <td>condominium for sale</td>\n",
       "    </tr>\n",
       "    <tr>\n",
       "      <th>2</th>\n",
       "      <td>550 Front St #1404, San Diego, CA 92101</td>\n",
       "      <td>$1,329,900</td>\n",
       "      <td>2 bds | 3 ba | 1,596 sqft</td>\n",
       "      <td>condominium for sale</td>\n",
       "    </tr>\n",
       "    <tr>\n",
       "      <th>3</th>\n",
       "      <td>69 Antigua Court, Coronado, CA 92118</td>\n",
       "      <td>$1,125,000</td>\n",
       "      <td>2 bds | 2 ba | 1,860 sqft</td>\n",
       "      <td>condominium for sale</td>\n",
       "    </tr>\n",
       "    <tr>\n",
       "      <th>4</th>\n",
       "      <td>2638 Teresita St, San Diego, CA 92104</td>\n",
       "      <td>$1,149,999</td>\n",
       "      <td>3 bds | 2 ba | 1,816 sqft</td>\n",
       "      <td>house for sale</td>\n",
       "    </tr>\n",
       "    <tr>\n",
       "      <th>5</th>\n",
       "      <td>4211 Utah 4, San Diego, CA 92104</td>\n",
       "      <td>$757,000</td>\n",
       "      <td>2 bds | 3 ba | -- sqft</td>\n",
       "      <td>condominium for sale</td>\n",
       "    </tr>\n",
       "    <tr>\n",
       "      <th>6</th>\n",
       "      <td>4766-4768 Bermuda Ave, San Diego, CA 92107</td>\n",
       "      <td>$1,400,000</td>\n",
       "      <td>4 bds | 2 ba | 1,437 sqft</td>\n",
       "      <td>multi family for sale</td>\n",
       "    </tr>\n",
       "    <tr>\n",
       "      <th>7</th>\n",
       "      <td>1099 1st, Coronado, CA 92118</td>\n",
       "      <td>$1,895,000</td>\n",
       "      <td>2 bds | 2 ba | 1,644 sqft</td>\n",
       "      <td>condominium for sale</td>\n",
       "    </tr>\n",
       "    <tr>\n",
       "      <th>8</th>\n",
       "      <td>5111 Brighton, San Diego, CA 92107</td>\n",
       "      <td>$1,450,000</td>\n",
       "      <td>3 bds | 3 ba | 1,834 sqft</td>\n",
       "      <td>house for sale</td>\n",
       "    </tr>\n",
       "    <tr>\n",
       "      <th>9</th>\n",
       "      <td>14955 Avenida Venusto #8, San Diego, CA 92128</td>\n",
       "      <td>$488,000</td>\n",
       "      <td>2 bds | 2 ba | 1,152 sqft</td>\n",
       "      <td>mobile manufactured for sale</td>\n",
       "    </tr>\n",
       "    <tr>\n",
       "      <th>10</th>\n",
       "      <td>3271 Thorn St, San Diego, CA 92104</td>\n",
       "      <td>$925,000</td>\n",
       "      <td>3 bds | 2 ba | 1,216 sqft</td>\n",
       "      <td>house for sale</td>\n",
       "    </tr>\n",
       "  </tbody>\n",
       "</table>\n",
       "</div>"
      ],
      "text/plain": [
       "                                           address       price  \\\n",
       "1   1285 Pacific Highway #102, San Diego, CA 92101  $1,150,000   \n",
       "2          550 Front St #1404, San Diego, CA 92101  $1,329,900   \n",
       "3             69 Antigua Court, Coronado, CA 92118  $1,125,000   \n",
       "4            2638 Teresita St, San Diego, CA 92104  $1,149,999   \n",
       "5                 4211 Utah 4, San Diego, CA 92104    $757,000   \n",
       "6       4766-4768 Bermuda Ave, San Diego, CA 92107  $1,400,000   \n",
       "7                     1099 1st, Coronado, CA 92118  $1,895,000   \n",
       "8               5111 Brighton, San Diego, CA 92107  $1,450,000   \n",
       "9    14955 Avenida Venusto #8, San Diego, CA 92128    $488,000   \n",
       "10              3271 Thorn St, San Diego, CA 92104    $925,000   \n",
       "\n",
       "                      details                          type  \n",
       "1   2 bds | 3 ba | 1,668 sqft          condominium for sale  \n",
       "2   2 bds | 3 ba | 1,596 sqft          condominium for sale  \n",
       "3   2 bds | 2 ba | 1,860 sqft          condominium for sale  \n",
       "4   3 bds | 2 ba | 1,816 sqft                house for sale  \n",
       "5      2 bds | 3 ba | -- sqft          condominium for sale  \n",
       "6   4 bds | 2 ba | 1,437 sqft         multi family for sale  \n",
       "7   2 bds | 2 ba | 1,644 sqft          condominium for sale  \n",
       "8   3 bds | 3 ba | 1,834 sqft                house for sale  \n",
       "9   2 bds | 2 ba | 1,152 sqft  mobile manufactured for sale  \n",
       "10  3 bds | 2 ba | 1,216 sqft                house for sale  "
      ]
     },
     "execution_count": 142,
     "metadata": {},
     "output_type": "execute_result"
    }
   ],
   "source": [
    "homeData_df.head(10)"
   ]
  },
  {
   "cell_type": "code",
   "execution_count": 145,
   "metadata": {},
   "outputs": [],
   "source": [
    "homeData_df.to_csv(\"homesdotcomdata.csv\")"
   ]
  },
  {
   "cell_type": "code",
   "execution_count": null,
   "metadata": {},
   "outputs": [],
   "source": [
    "for "
   ]
  }
 ],
 "metadata": {
  "kernelspec": {
   "display_name": "Python 3",
   "language": "python",
   "name": "python3"
  },
  "language_info": {
   "codemirror_mode": {
    "name": "ipython",
    "version": 3
   },
   "file_extension": ".py",
   "mimetype": "text/x-python",
   "name": "python",
   "nbconvert_exporter": "python",
   "pygments_lexer": "ipython3",
   "version": "3.7.3"
  }
 },
 "nbformat": 4,
 "nbformat_minor": 2
}
